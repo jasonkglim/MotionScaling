{
 "cells": [
  {
   "cell_type": "markdown",
   "metadata": {},
   "source": [
    "Read in all data"
   ]
  },
  {
   "cell_type": "code",
   "execution_count": 1,
   "metadata": {},
   "outputs": [
    {
     "name": "stdout",
     "output_type": "stream",
     "text": [
      "Processing data_files/user_jason/metric_df.csv dataset...\n",
      "Processing data_files/user_lauren/metric_df.csv dataset...\n",
      "Processing data_files/user_lizzie1/metric_df.csv dataset...\n",
      "Processing data_files/user_lizzie2/metric_df.csv dataset...\n",
      "Processing data_files/user_sarah1/metric_df.csv dataset...\n",
      "Processing data_files/user_shreya/metric_df.csv dataset...\n",
      "Processing data_files/user_sujaan/metric_df.csv dataset...\n",
      "Processing data_files/user_xiao/metric_df.csv dataset...\n",
      "Processing data_files/user_yutong/metric_df.csv dataset...\n"
     ]
    }
   ],
   "source": [
    "import pandas as pd\n",
    "import numpy as np\n",
    "import matplotlib.pyplot as plt\n",
    "import seaborn as sns\n",
    "from sklearn.model_selection import train_test_split\n",
    "from sklearn.preprocessing import PolynomialFeatures\n",
    "from sklearn.linear_model import LinearRegression\n",
    "from sklearn.metrics import r2_score, mean_squared_error\n",
    "from utils import stratified_sample, annotate, even_train_split\n",
    "import glob  # Importing the glob module to find all the files matching a pattern\n",
    "\n",
    "# Pattern to match the data files\n",
    "file_pattern = \"data_files/user_*/metric_df.csv\"\n",
    "\n",
    "# Initialize a dictionary to store Dataframes for each dataset\n",
    "all_datasets = {}\n",
    "\n",
    "# Loop through each file that matches the file pattern\n",
    "for filepath in glob.glob(file_pattern):\n",
    "    # print(filepath)\n",
    "    # print(filepath.split('/'))\n",
    "    user_name = filepath.split('/')[1]\n",
    "    print(f\"Processing {filepath} dataset...\")\n",
    "\n",
    "    # Read in data file as a pandas dataframe\n",
    "    data = pd.read_csv(filepath)\n",
    "\n",
    "    all_datasets[user_name] = data"
   ]
  },
  {
   "cell_type": "markdown",
   "metadata": {},
   "source": [
    "Modeling"
   ]
  },
  {
   "cell_type": "code",
   "execution_count": null,
   "metadata": {},
   "outputs": [],
   "source": [
    "from models import PolyRegression, GPRegression\n",
    "\n",
    "for user, data in all_datasets.items():\n",
    "\n",
    "\t# Prepare data \n",
    "\tX = data[['latency', 'scale']]\n",
    "\tdata[\"performance\"] = 10*data['throughput'] - data['avg_osd'] - data['avg_target_error']\n",
    "\tY = data[\"performance\"]\n",
    "\n",
    "\tn = len(data)\n",
    "\tn_train_values = range(2, n-2)\n",
    "\tfor n_train in n_train_values:\n",
    "\n",
    "\t\t# Split into training/test sets\n",
    "\t\tX_train, X_test, Y_train, Y_test = even_train_split(data, n_train, y_metric=\"performance\")\n",
    "\t\t# X_train, X_test, Y_train, Y_test = train_test_split(X, Y, train_size=n_train/n)\n",
    "\n",
    "\t\t# Apply model, returning predictions over original dataset and dense inputs\n",
    "\t\tY_pred, Y_pred_test, Y_pred_dense = PolyRegression(X, X_test, X_dense, X_train, Y_train, degree = 2)\n",
    "\n",
    "\t\t# Evaluate metrics\n",
    "\n",
    "\t\t# Predict over dense inputs\n",
    "\t\tlatency_range = np.array(data['latency'].unique())# np.arange(0.0, 0.76, 0.01)\n",
    "\t\tscale_range = np.arange(0.0, 1.225, 0.025)\n",
    "\n",
    "\t\t# Create a meshgrid from the input ranges\n",
    "\t\tlatency_grid, scale_grid = np.meshgrid(latency_range, scale_range)\n",
    "\t\tX_dense = np.c_[latency_grid.ravel(), scale_grid.ravel()]\n",
    "\t\tX_dense = np.round(X_dense, 3)\n",
    "\t\tX_dense_poly = poly.transform(X_dense)\n",
    "\n",
    "\t\tY_pred_dense = model.predict(X_dense_poly)\n",
    "\n",
    "\t\tdense_df = pd.DataFrame({\n",
    "\t\t\t\t'latency': X_dense[:, 0].flatten(),\n",
    "\t\t\t\t'scale': X_dense[:, 1].flatten(),\n",
    "\t\t\t\t'Y_pred_dense': Y_pred_dense.flatten()\n",
    "\t\t\t})\n",
    "\t\t\n",
    "\t\toptimal_scale_dense = dense_df.loc[dense_df.groupby('latency')['Y_pred_dense'].idxmax()][['latency', 'scale']]\n",
    "\t\toptimal_scale_ref = data.loc[data.groupby('latency')['performance'].idxmax()][['latency', 'scale']]\n",
    "\t\toptimal_scale_pred = data.loc[data.groupby('latency')['Y_pred'].idxmax()][['latency', 'scale']]\n",
    "\t\tprint(optimal_scale_ref)\n",
    "\t\tprint(optimal_scale_pred)\n",
    "\t\tprint(optimal_scale_dense)\n",
    "\n",
    "\t\t# Merge the results on 'latency'\n",
    "\t\tmerged_ref_pred = pd.merge(optimal_scale_ref, optimal_scale_pred, \n",
    "\t\t\t\t\t\t\ton='latency', suffixes=('_ref', '_pred'))\n",
    "\t\t\n",
    "\t\tmerged_ref_dense = pd.merge(optimal_scale_ref, optimal_scale_dense, \n",
    "\t\t\t\t\t\t\ton='latency', suffixes=('_ref', '_dense'))\n",
    "\t\t\n",
    "\n",
    "\t\t# Count the number of matches\n",
    "\t\tmatches = (merged_ref_pred['scale_ref'] == merged_ref_pred['scale_pred']).sum()\n",
    "\t\tscale_error = np.abs(merged_ref_dense['scale_ref'] - merged_ref_dense['scale_dense']).mean()\n",
    "\n",
    "\t\toptimal_match_rate.append(matches / 4)\n",
    "\t\toptimal_scale_errors.append(scale_error)\n",
    "\n"
   ]
  },
  {
   "cell_type": "code",
   "execution_count": null,
   "metadata": {},
   "outputs": [],
   "source": []
  }
 ],
 "metadata": {
  "kernelspec": {
   "display_name": "Python 3",
   "language": "python",
   "name": "python3"
  },
  "language_info": {
   "codemirror_mode": {
    "name": "ipython",
    "version": 3
   },
   "file_extension": ".py",
   "mimetype": "text/x-python",
   "name": "python",
   "nbconvert_exporter": "python",
   "pygments_lexer": "ipython3",
   "version": "3.8.10"
  }
 },
 "nbformat": 4,
 "nbformat_minor": 2
}
