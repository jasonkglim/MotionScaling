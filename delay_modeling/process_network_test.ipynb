{
 "cells": [
  {
   "cell_type": "code",
   "execution_count": null,
   "metadata": {},
   "outputs": [],
   "source": [
    "import csv\n",
    "import pandas as pd\n",
    "import matplotlib.pyplot as plt\n",
    "import seaborn as sns\n",
    "import numpy as np\n",
    "\n",
    "mean_rtd_set = []\n",
    "std_rtd_set = []\n",
    "\n",
    "for name in [\"Jaey\", \"Jason\"]:\n",
    "    for trial_num in range(1, 8):\n",
    "        if name == \"Jason\" and trial_num == 7: break\n",
    "        df = pd.read_csv(f\"network_test_data/{name}OCU/trial{trial_num}.csv\")\n",
    "\n",
    "        mean_rtd = df[\"tcp_rtt (ms)\"].mean()\n",
    "        std_rtd = df[\"tcp_rtt (ms)\"].std()\n",
    "\n",
    "        mean_rtd_set.append(mean_rtd)\n",
    "        std_rtd_set.append(std_rtd)\n",
    "\n",
    "        plt.figure(figsize=(10, 6), facecolor=\"white\")\n",
    "        plt.plot(df[\"Interval start\"], df[\"tcp_rtt (ms)\"])\n",
    "        plt.xlabel(\"Trial time (s)\", fontsize=16)\n",
    "        plt.ylabel(\"Delay (ms)\", fontsize=16)\n",
    "        plt.title(f\"Mean RTT = {mean_rtd:.2f}, Std Dev = {std_rtd:.2f}\", fontsize=20)\n",
    "        # plt.savefig(f\"rtt_{name}OCU_trial{trial_num}.png\")\n",
    "        plt.tight_layout()\n",
    "        plt.show()\n",
    "\n",
    "        plt.figure(figsize=(10, 6), facecolor=\"white\")\n",
    "        sns.histplot(df[\"tcp_rtt (ms)\"], kde=True, bins=222, color='blue')\n",
    "\n",
    "        plt.title('Distribution of TCP RTT (ms)', fontsize=20)\n",
    "        plt.xlabel('TCP RTT (ms)', fontsize=16)\n",
    "        plt.ylabel('Frequency', fontsize=16)\n",
    "        plt.grid(True)\n",
    "        # plt.savefig(f\"rtt_distribution_{name}OCU_trial{trial_num}.png\")\n",
    "        plt.tight_layout()\n",
    "        plt.show()\n",
    "\n",
    "\n",
    "print(f\"Mean RTD: {np.mean(mean_rtd_set)}, std {np.std(mean_rtd_set)}\")\n",
    "print(f\"STD RTD: {np.mean(std_rtd_set)}, std {np.std(std_rtd_set)}\")\n",
    "        "
   ]
  },
  {
   "cell_type": "code",
   "execution_count": null,
   "metadata": {},
   "outputs": [],
   "source": [
    "### Plot change in estimator\n",
    "import distribution_estimation as de\n",
    "\n",
    "name = \"Jason\"\n",
    "trial_num = 1\n",
    "df = pd.read_csv(f\"network_test_data/{name}OCU/trial{trial_num}.csv\")\n",
    "bin_mode = 'auto'\n",
    "# window = 25\n",
    "h10 = de.OnlineHistogram(bin_mode=10, window=10)\n",
    "h25 = de.OnlineHistogram(bin_mode=10, window=25)\n",
    "h50 = de.OnlineHistogram(bin_mode=10, window=50)\n",
    "h100 = de.OnlineHistogram(bin_mode=10, window=100)\n",
    "\n",
    "hist_objects = [h10, h25, h50, h100]\n",
    "estimator = [[], [], [], []]\n",
    "print(estimator)\n",
    "for data_point in df[\"tcp_rtt (ms)\"]:\n",
    "    for i, hist in enumerate(hist_objects):\n",
    "        pdf, edges = hist.update(data_point)\n",
    "        bin_width = np.diff(edges)\n",
    "        cdf = np.cumsum(pdf)*bin_width\n",
    "        pmf = pdf*bin_width\n",
    "        estimator[i].append(de.value_at_percentile(cdf, edges, 90))\n",
    "        print(pdf)\n",
    "        print(estimator[i][-1])\n",
    "    \n",
    "plt.figure(figsize=(10, 6), facecolor='white')\n",
    "for e in estimator:\n",
    "    plt.plot(df[\"Interval start\"], e)\n",
    "plt.legend([\"10\", \"25\", \"50\", \"100\"])\n",
    "plt.xlabel(\"Trial time (s)\", fontsize=16)\n",
    "plt.ylabel(\"Delay (ms)\", fontsize=16)\n",
    "plt.tight_layout()\n",
    "plt.grid(True)\n",
    "plt.show()\n",
    "\n",
    "plt.figure(figsize=(10, 6), facecolor=\"white\")\n",
    "plt.plot(df[\"Interval start\"], df[\"tcp_rtt (ms)\"])\n",
    "plt.xlabel(\"Trial time (s)\", fontsize=16)\n",
    "plt.ylabel(\"Delay (ms)\", fontsize=16)\n",
    "plt.title(f\"Mean RTT = {mean_rtd:.2f}, Std Dev = {std_rtd:.2f}\", fontsize=20)\n",
    "# plt.savefig(f\"rtt_{name}OCU_trial{trial_num}.png\")\n",
    "plt.tight_layout()\n",
    "plt.grid(True)\n",
    "plt.show()"
   ]
  },
  {
   "cell_type": "code",
   "execution_count": null,
   "metadata": {},
   "outputs": [],
   "source": [
    "new = de.OnlineHistogram()\n",
    "new.data"
   ]
  },
  {
   "cell_type": "code",
   "execution_count": 1,
   "metadata": {},
   "outputs": [
    {
     "name": "stdout",
     "output_type": "stream",
     "text": [
      "[]\n",
      "(array([1.]), array([0.5, 1.5]))\n"
     ]
    }
   ],
   "source": [
    "import distribution_estimation as de\n",
    "\n",
    "x1 = de.OnlineHistogram(bin_mode=\"auto\", window=10)\n",
    "x2 = de.OnlineHistogram()\n",
    "print(x1.data)\n",
    "print(x1.update(1))"
   ]
  }
 ],
 "metadata": {
  "kernelspec": {
   "display_name": "base",
   "language": "python",
   "name": "python3"
  },
  "language_info": {
   "codemirror_mode": {
    "name": "ipython",
    "version": 3
   },
   "file_extension": ".py",
   "mimetype": "text/x-python",
   "name": "python",
   "nbconvert_exporter": "python",
   "pygments_lexer": "ipython3",
   "version": "3.8.8"
  }
 },
 "nbformat": 4,
 "nbformat_minor": 2
}
