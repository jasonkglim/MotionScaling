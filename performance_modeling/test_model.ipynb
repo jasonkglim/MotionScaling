{
 "cells": [
  {
   "cell_type": "code",
   "execution_count": 1,
   "metadata": {},
   "outputs": [],
   "source": [
    "from models import GPRegression\n",
    "import numpy as np\n",
    "import matplotlib.pyplot as plt\n",
    "from sklearn.gaussian_process.kernels import RBF, ConstantKernel, RationalQuadratic, WhiteKernel\n",
    "import pandas as pd\n",
    "\n",
    "kernel = ConstantKernel() * RBF() + WhiteKernel()\n",
    "model = GPRegression(kernel=kernel)\n",
    "test_input = np.array([0.1, 0.2, 0.3, 0.4, 0.5, 0.6, 0.7, 0.8])\n",
    "model.set_test_input(test_input=test_input)"
   ]
  },
  {
   "cell_type": "code",
   "execution_count": 55,
   "metadata": {},
   "outputs": [],
   "source": [
    "def visualize(model):\n",
    "\t\t# by default use self.test_input\n",
    "\t\tprediction_dict, kernel_params = model.train_predict()\n",
    "\n",
    "\t\t# fig, ax = plt.subplots(1, len(prediction_dict.keys()))\n",
    "\t\tplt.figure()\n",
    "\t\tfor i, (metric, y_train) in enumerate(model.y_dict.items()):\n",
    "\t\t\tplt.scatter(model.X, y_train, marker='o')\n",
    "\t\t\ty_pred = prediction_dict[metric][0].flatten()\n",
    "\t\t\tpred_var = prediction_dict[metric][1].flatten()\n",
    "\t\t\tplt.plot(model.test_input.flatten(), y_pred, linestyle='--', color='black')\n",
    "\t\t\tplt.fill_between(model.test_input.flatten(), y_pred-pred_var, y_pred+pred_var, alpha=0.3)\n",
    "\t\t\tplt.title(f\"{kernel_params['y']}\")\n",
    "\t\t\t# plt.ylim(0, 15)\n",
    "\t\t\n",
    "\t\tplt.show()"
   ]
  },
  {
   "cell_type": "code",
   "execution_count": 7,
   "metadata": {},
   "outputs": [],
   "source": [
    "X_train = [1]\n",
    "y_train = [1]\n",
    "model.add_training_data(X_train, {'y': y_train})\n",
    "# prediction_dict = model.train_predict(test_input=test_input)"
   ]
  },
  {
   "cell_type": "code",
   "execution_count": 24,
   "metadata": {},
   "outputs": [],
   "source": [
    "model.add_training_data([2, 2], {'y': [-1, 5]})"
   ]
  },
  {
   "cell_type": "code",
   "execution_count": 13,
   "metadata": {},
   "outputs": [],
   "source": [
    "model.set_test_input([0.2, 1.0])"
   ]
  },
  {
   "cell_type": "code",
   "execution_count": 14,
   "metadata": {},
   "outputs": [
    {
     "data": {
      "image/png": "[encoded data removed]",
      "text/plain": [
       "<Figure size 432x288 with 1 Axes>"
      ]
     },
     "metadata": {
      "needs_background": "light"
     },
     "output_type": "display_data"
    }
   ],
   "source": [
    "visualize(model)\n",
    "# print(\"var for 2: \", model.prediction_dict['y'][1][2])\n",
    "# print(\"var for 3: \", model.prediction_dict['y'][1][3])"
   ]
  },
  {
   "cell_type": "code",
   "execution_count": 78,
   "metadata": {},
   "outputs": [
    {
     "data": {
      "image/png": "[encoded data removed]",
      "text/plain": [
       "<Figure size 432x288 with 1 Axes>"
      ]
     },
     "metadata": {
      "needs_background": "light"
     },
     "output_type": "display_data"
    },
    {
     "data": {
      "text/plain": [
       "array([-0.99997086])"
      ]
     },
     "execution_count": 78,
     "metadata": {},
     "output_type": "execute_result"
    }
   ],
   "source": [
    "kernel2 = ConstantKernel() * RBF() + WhiteKernel()\n",
    "model2 = GPRegression(kernel=kernel2)\n",
    "model2.add_training_data(train_inputs=[2], train_output_dict={'y': [-1]})\n",
    "model2.set_test_input([2])\n",
    "visualize(model2)\n",
    "model2.prediction_dict['y'][0]"
   ]
  },
  {
   "cell_type": "code",
   "execution_count": 63,
   "metadata": {},
   "outputs": [
    {
     "data": {
      "text/plain": [
       "array([[2]])"
      ]
     },
     "execution_count": 63,
     "metadata": {},
     "output_type": "execute_result"
    }
   ],
   "source": [
    "model2.X"
   ]
  },
  {
   "cell_type": "code",
   "execution_count": 64,
   "metadata": {},
   "outputs": [
    {
     "data": {
      "text/plain": [
       "array([[1],\n",
       "       [2],\n",
       "       [3],\n",
       "       [4],\n",
       "       [5]])"
      ]
     },
     "execution_count": 64,
     "metadata": {},
     "output_type": "execute_result"
    }
   ],
   "source": [
    "model2.test_input"
   ]
  },
  {
   "cell_type": "code",
   "execution_count": null,
   "metadata": {},
   "outputs": [],
   "source": []
  }
 ],
 "metadata": {
  "kernelspec": {
   "display_name": "Python 3",
   "language": "python",
   "name": "python3"
  },
  "language_info": {
   "codemirror_mode": {
    "name": "ipython",
    "version": 3
   },
   "file_extension": ".py",
   "mimetype": "text/x-python",
   "name": "python",
   "nbconvert_exporter": "python",
   "pygments_lexer": "ipython3",
   "version": "3.8.10"
  }
 },
 "nbformat": 4,
 "nbformat_minor": 2
}
